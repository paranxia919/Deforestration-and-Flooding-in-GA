{
 "cells": [
  {
   "cell_type": "code",
   "execution_count": null,
   "metadata": {},
   "outputs": [],
   "source": [
    "import pandas as pd\n",
    "import numpy as np\n",
    "import matplotlib.pyplot as plt\n",
    "import seaborn as sns"
   ]
  },
  {
   "cell_type": "code",
   "execution_count": 1,
   "metadata": {},
   "outputs": [
    {
     "name": "stdout",
     "output_type": "stream",
     "text": [
      "Empty DataFrame\n",
      "Columns: []\n",
      "Index: []\n"
     ]
    },
    {
     "name": "stderr",
     "output_type": "stream",
     "text": [
      "/var/folders/mp/gmc62dp11n708wvtvkhzfldc0000gn/T/ipykernel_19478/3443685256.py:1: DeprecationWarning: \n",
      "Pyarrow will become a required dependency of pandas in the next major release of pandas (pandas 3.0),\n",
      "(to allow more performant data types, such as the Arrow string type, and better interoperability with other libraries)\n",
      "but was not found to be installed on your system.\n",
      "If this would cause problems for you,\n",
      "please provide us feedback at https://github.com/pandas-dev/pandas/issues/54466\n",
      "        \n",
      "  import pandas as pd\n"
     ]
    }
   ],
   "source": [
    "import pandas as pd\n",
    "import glob\n",
    "import os\n",
    "\n",
    "def load_storm_data(pattern=\"StormData_*.csv\"):\n",
    "    # Finds all CSV files that match the pattern (e.g., StormData_2010.csv, StormData_2011.csv, etc.)\n",
    "    csv_files = glob.glob(pattern)\n",
    "    \n",
    "    # A place to store dataframes\n",
    "    storm_data_list = []\n",
    "    \n",
    "    for file in csv_files:\n",
    "        # Read each CSV file\n",
    "        df = pd.read_csv(file)\n",
    "        # Optionally store the filename in a column if you want to keep track\n",
    "        df[\"source_file\"] = os.path.basename(file)\n",
    "        \n",
    "        storm_data_list.append(df)\n",
    "    \n",
    "    # Combine all dataframes into one\n",
    "    if storm_data_list:\n",
    "        combined_df = pd.concat(storm_data_list, ignore_index=True)\n",
    "        return combined_df\n",
    "    else:\n",
    "        return pd.DataFrame()  # Return empty if no files found\n",
    "\n",
    "# Example usage:\n",
    "storm_df = load_storm_data() \n",
    "print(storm_df.head())\n"
   ]
  },
  {
   "cell_type": "code",
   "execution_count": 2,
   "metadata": {},
   "outputs": [],
   "source": [
    "def load_county():\n",
    "    \n",
    "    pattern = os.path.join(\".\", \"*.csv\")\n",
    "    csv_files = glob.glob(pattern)\n",
    "\n",
    "    county_data ={}\n",
    "\n",
    "    for file in csv_files:\n",
    "        name = os.path.splitext(os.path.basename(file))[0]\n",
    "        df = pd.read_csv(file)\n",
    "        county_data[name] = df\n",
    "\n",
    "    return county_data"
   ]
  },
  {
   "cell_type": "code",
   "execution_count": null,
   "metadata": {},
   "outputs": [],
   "source": [
    "def calculate_rate(county_data):\n",
    "   \n",
    "   rate_change_dict = {}\n",
    "   \n",
    "\n",
    "   for county, df in county_data.items():\n",
    "    \n",
    "    df_data = df.iloc[1:]\n",
    "\n",
    "    types = df_data.iloc[:,0].astype(str).str.strip().str.lower()\n",
    "    y1985 = pd.to_numeric(df_data.iloc[:,1],errors = 'raise')\n",
    "    y2023 = pd.to_numeric(df_data.iloc[:,-2],errors = 'raise')\n",
    "    \n",
    "    rate_change = (y2023-y1985)/y1985.replace(0,pd.NA)\n",
    "\n",
    "    # print(f\"County: {county}\")\n",
    "    # print(\"y1985 head:\", y1985.head())\n",
    "    # print(\"y2023 head:\", y2023.head())\n",
    "    # print(\"Rate change head:\", rate_change.head())\n",
    "    # print(\"-\" * 40)\n",
    "    \n",
    "    df['rate_change'] = rate_change\n",
    "    \n",
    "    rate_series = pd.Series(rate_change.values, index=types)\n",
    "    rate_change_dict[county]=rate_series\n",
    "\n",
    "   rate_change_NLCD = pd.DataFrame(rate_change_dict) \n",
    "   rate_change_NLCD.to_csv(os.path.join(\".\", \"rate_change_NLCD.csv\"))\n",
    "\n",
    "   return rate_change_NLCD\n"
   ]
  },
  {
   "cell_type": "code",
   "execution_count": null,
   "metadata": {},
   "outputs": [],
   "source": [
    "\n",
    "if __name__ == \"__main__\":\n",
    "   \n",
    "   county_data = load_county()\n",
    "\n",
    "   rate_change_NLCD = calculate_rate(county_data)\n",
    "\n",
    "   print(\"processed\")"
   ]
  }
 ],
 "metadata": {
  "kernelspec": {
   "display_name": "Python 3",
   "language": "python",
   "name": "python3"
  },
  "language_info": {
   "codemirror_mode": {
    "name": "ipython",
    "version": 3
   },
   "file_extension": ".py",
   "mimetype": "text/x-python",
   "name": "python",
   "nbconvert_exporter": "python",
   "pygments_lexer": "ipython3",
   "version": "3.9.6"
  }
 },
 "nbformat": 4,
 "nbformat_minor": 2
}
